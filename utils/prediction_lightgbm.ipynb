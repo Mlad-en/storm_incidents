{
 "cells": [
  {
   "cell_type": "code",
   "execution_count": 24,
   "id": "initial_id",
   "metadata": {
    "collapsed": true,
    "ExecuteTime": {
     "end_time": "2024-02-09T13:28:12.090822Z",
     "start_time": "2024-02-09T13:28:12.086597Z"
    }
   },
   "outputs": [],
   "source": [
    "from undersampling import undersample_daily_weather_data, undersample_grid_data, DatabaseTables, FetchDBData\n",
    "from imblearn.under_sampling import NearMiss\n",
    "import pandas as pd\n",
    "\n",
    "\n",
    "from sklearn.model_selection import train_test_split\n",
    "from sklearn.metrics import accuracy_score, f1_score, precision_score, recall_score\n",
    "\n",
    "import matplotlib.pyplot as plt\n",
    "import seaborn as sns\n",
    "\n",
    "import lightgbm as lgb\n",
    "import numpy as np\n",
    "\n",
    "import joblib"
   ]
  },
  {
   "cell_type": "markdown",
   "source": [
    "# DATA Combination and Undersampling"
   ],
   "metadata": {
    "collapsed": false
   },
   "id": "e59ad263d9d15174"
  },
  {
   "cell_type": "code",
   "outputs": [
    {
     "name": "stdout",
     "output_type": "stream",
     "text": [
      "Ratio Weather:\n",
      "has_incident\n",
      "False    1099\n",
      "True      516\n",
      "Name: count, dtype: int64\n"
     ]
    }
   ],
   "source": [
    "under_sampler = NearMiss(version=3, sampling_strategy=0.3)\n",
    "weather_data, has_incident  = undersample_daily_weather_data(under_sampler, DatabaseTables.full_sampled_weather_with_incidents)\n",
    "weather_data.loc[:, \"has_incident\"] = has_incident"
   ],
   "metadata": {
    "collapsed": false,
    "ExecuteTime": {
     "end_time": "2024-02-09T13:02:54.785638Z",
     "start_time": "2024-02-09T13:02:39.743656Z"
    }
   },
   "id": "713fc7e2fdf46025",
   "execution_count": 2
  },
  {
   "cell_type": "code",
   "outputs": [
    {
     "name": "stdout",
     "output_type": "stream",
     "text": [
      "Ratio of Grids:\n",
      "has_incident\n",
      "0    1243\n",
      "1    1243\n",
      "Name: count, dtype: int64\n"
     ]
    }
   ],
   "source": [
    "under_sampler = NearMiss(version=3, sampling_strategy=1)\n",
    "grid_data, has_incident = undersample_grid_data(under_sampler)\n",
    "grid_data.loc[:, \"has_incident\"] = has_incident"
   ],
   "metadata": {
    "collapsed": false,
    "ExecuteTime": {
     "end_time": "2024-02-09T13:03:11.686675Z",
     "start_time": "2024-02-09T13:02:54.780120Z"
    }
   },
   "id": "a1f1ef18101ad39a",
   "execution_count": 3
  },
  {
   "cell_type": "code",
   "outputs": [],
   "source": [
    "incidents_grid_date = FetchDBData(DatabaseTables.count_tree_incidents_per_grid_date).get_database_data()"
   ],
   "metadata": {
    "collapsed": false,
    "ExecuteTime": {
     "end_time": "2024-02-09T13:03:11.878194Z",
     "start_time": "2024-02-09T13:03:11.681133Z"
    }
   },
   "id": "bab0586beffb9988",
   "execution_count": 4
  },
  {
   "cell_type": "code",
   "outputs": [],
   "source": [
    "weather_data[\"dt_iso\"] = weather_data[\"dt_iso\"].astype(str).str.split(' ').apply(lambda x: x[0])"
   ],
   "metadata": {
    "collapsed": false,
    "ExecuteTime": {
     "end_time": "2024-02-09T13:03:11.893807Z",
     "start_time": "2024-02-09T13:03:11.885020Z"
    }
   },
   "id": "4e7400bd3fcb6e40",
   "execution_count": 5
  },
  {
   "cell_type": "code",
   "outputs": [],
   "source": [
    "incidents_grid_date[\"date\"] = incidents_grid_date[\"date\"].astype(str)"
   ],
   "metadata": {
    "collapsed": false,
    "ExecuteTime": {
     "end_time": "2024-02-09T13:03:11.894673Z",
     "start_time": "2024-02-09T13:03:11.890975Z"
    }
   },
   "id": "fec2cf0f81837d52",
   "execution_count": 6
  },
  {
   "cell_type": "code",
   "outputs": [],
   "source": [
    "weather_data_incidents = weather_data.query(\"`has_incident` == 1\").merge(incidents_grid_date, left_on=\"dt_iso\", right_on=\"date\")"
   ],
   "metadata": {
    "collapsed": false,
    "ExecuteTime": {
     "end_time": "2024-02-09T13:03:11.918866Z",
     "start_time": "2024-02-09T13:03:11.900392Z"
    }
   },
   "id": "9989d66824009de3",
   "execution_count": 7
  },
  {
   "cell_type": "code",
   "outputs": [],
   "source": [
    "weather_grid_has_incident = (\n",
    "    weather_data_incidents\n",
    "    .drop([\"count_incidents_y\", \"count_incidents_x\", \"max_incident_priority\", \"has_incident\"], axis=1)\n",
    "    .merge(grid_data, on=\"grid_id\")\n",
    ")"
   ],
   "metadata": {
    "collapsed": false,
    "ExecuteTime": {
     "end_time": "2024-02-09T13:03:11.919652Z",
     "start_time": "2024-02-09T13:03:11.906688Z"
    }
   },
   "id": "22ca1a8fefa974f3",
   "execution_count": 8
  },
  {
   "cell_type": "code",
   "outputs": [],
   "source": [
    "weather_grid_no_incident = grid_data.query(\"`has_incident` == 0\").merge(weather_data_incidents, how=\"cross\").drop([\"count_incidents_y\", \"count_incidents_x\", \"max_incident_priority\", \"has_incident_y\", \"grid_id_y\"], axis=1).rename(columns={\"grid_id_x\": \"grid_id\", \"has_incident_x\": \"has_incident\"})"
   ],
   "metadata": {
    "collapsed": false,
    "ExecuteTime": {
     "end_time": "2024-02-09T13:03:16.609980Z",
     "start_time": "2024-02-09T13:03:11.924257Z"
    }
   },
   "id": "b74e30f5593724a",
   "execution_count": 9
  },
  {
   "cell_type": "code",
   "outputs": [],
   "source": [
    "weather_data_no_incidents = weather_data.query(\"`has_incident` == 0\").merge(incidents_grid_date, left_on=\"dt_iso\", right_on=\"date\")\n",
    "weather_grid_weather_no_incidents = grid_data.query(\"`has_incident` == 0\").merge(weather_data_incidents, how=\"cross\").drop([\"count_incidents_y\", \"count_incidents_x\", \"max_incident_priority\", \"has_incident_y\", \"grid_id_y\"], axis=1).rename(columns={\"grid_id_x\": \"grid_id\", \"has_incident_x\": \"has_incident\"})"
   ],
   "metadata": {
    "collapsed": false,
    "ExecuteTime": {
     "end_time": "2024-02-09T13:03:21.104337Z",
     "start_time": "2024-02-09T13:03:16.614848Z"
    }
   },
   "id": "dd8b2c70dc7cf46d",
   "execution_count": 10
  },
  {
   "cell_type": "code",
   "outputs": [],
   "source": [
    "weather_grid_weather_no_incidents = weather_grid_weather_no_incidents[weather_grid_has_incident.columns]"
   ],
   "metadata": {
    "collapsed": false,
    "ExecuteTime": {
     "end_time": "2024-02-09T13:03:21.945490Z",
     "start_time": "2024-02-09T13:03:21.106089Z"
    }
   },
   "id": "ecafb7b09d67a760",
   "execution_count": 11
  },
  {
   "cell_type": "code",
   "outputs": [],
   "source": [
    "weather_grid_no_incident = weather_grid_no_incident[weather_grid_has_incident.columns]"
   ],
   "metadata": {
    "collapsed": false,
    "ExecuteTime": {
     "end_time": "2024-02-09T13:03:22.784991Z",
     "start_time": "2024-02-09T13:03:21.947796Z"
    }
   },
   "id": "bdd1a879e0cd7731",
   "execution_count": 12
  },
  {
   "cell_type": "code",
   "outputs": [],
   "source": [
    "combined_data = pd.concat([\n",
    "    weather_grid_has_incident, \n",
    "    weather_grid_weather_no_incidents, \n",
    "    weather_grid_no_incident])\n",
    "combined_data = combined_data.drop([\"hour\",\"date\",\"total_incident_duration\"], axis=1)"
   ],
   "metadata": {
    "collapsed": false,
    "ExecuteTime": {
     "end_time": "2024-02-09T13:03:25.769049Z",
     "start_time": "2024-02-09T13:03:22.785213Z"
    }
   },
   "id": "66bb4ba423bf745c",
   "execution_count": 13
  },
  {
   "cell_type": "code",
   "outputs": [],
   "source": [
    "combined_data = combined_data.drop([\"grid_id\", \"weather_main\", \"dt_iso\"], axis=1)"
   ],
   "metadata": {
    "collapsed": false,
    "ExecuteTime": {
     "end_time": "2024-02-09T13:03:27.203412Z",
     "start_time": "2024-02-09T13:03:25.771908Z"
    }
   },
   "id": "18dc32b5ec0972ed",
   "execution_count": 14
  },
  {
   "cell_type": "code",
   "outputs": [
    {
     "data": {
      "text/plain": "has_incident\n0    3930366\n1       1521\nName: count, dtype: int64"
     },
     "execution_count": 15,
     "metadata": {},
     "output_type": "execute_result"
    }
   ],
   "source": [
    "combined_data.has_incident.value_counts()"
   ],
   "metadata": {
    "collapsed": false,
    "ExecuteTime": {
     "end_time": "2024-02-09T13:04:00.595912Z",
     "start_time": "2024-02-09T13:04:00.580819Z"
    }
   },
   "id": "a37a27891ae39763",
   "execution_count": 15
  },
  {
   "cell_type": "markdown",
   "source": [
    "# Modeling"
   ],
   "metadata": {
    "collapsed": false
   },
   "id": "8e1401c959f47ba2"
  },
  {
   "cell_type": "code",
   "outputs": [],
   "source": [
    "exclude_cols = [\n",
    "    \"dt_iso\",\n",
    "    \"grid_id\",\n",
    "]\n",
    "\n",
    "target_col = 'has_incident'\n",
    "\n",
    "predictor_cols =[col for col in combined_data.columns if col not in [target_col]]\n",
    "one_hot_cols = [\"weather_main\"]\n",
    "numeric_cols = [col for col in predictor_cols if col not in exclude_cols + one_hot_cols]\n",
    "\n",
    "X = combined_data[predictor_cols]\n",
    "y = combined_data[target_col]\n",
    "\n",
    "X_train, X_test, y_train, y_test = train_test_split(X, y, test_size=0.2, random_state=42, stratify=y)"
   ],
   "metadata": {
    "collapsed": false,
    "ExecuteTime": {
     "end_time": "2024-02-09T13:04:43.720292Z",
     "start_time": "2024-02-09T13:04:35.665155Z"
    }
   },
   "id": "6c040384c57c387d",
   "execution_count": 16
  },
  {
   "cell_type": "code",
   "outputs": [
    {
     "data": {
      "text/plain": "has_incident\n0    3144292\n1       1217\nName: count, dtype: int64"
     },
     "execution_count": 17,
     "metadata": {},
     "output_type": "execute_result"
    }
   ],
   "source": [
    "y_train.value_counts()"
   ],
   "metadata": {
    "collapsed": false,
    "ExecuteTime": {
     "end_time": "2024-02-09T13:05:04.087565Z",
     "start_time": "2024-02-09T13:05:04.079205Z"
    }
   },
   "id": "6f41a7ae27c97564",
   "execution_count": 17
  },
  {
   "cell_type": "code",
   "outputs": [
    {
     "data": {
      "text/plain": "has_incident\n0    786074\n1       304\nName: count, dtype: int64"
     },
     "execution_count": 18,
     "metadata": {},
     "output_type": "execute_result"
    }
   ],
   "source": [
    "y_test.value_counts()"
   ],
   "metadata": {
    "collapsed": false,
    "ExecuteTime": {
     "end_time": "2024-02-09T13:05:16.043977Z",
     "start_time": "2024-02-09T13:05:16.038050Z"
    }
   },
   "id": "9b9b3bbd5766b8ba",
   "execution_count": 18
  },
  {
   "cell_type": "code",
   "outputs": [
    {
     "ename": "KeyboardInterrupt",
     "evalue": "",
     "output_type": "error",
     "traceback": [
      "\u001B[0;31m---------------------------------------------------------------------------\u001B[0m",
      "\u001B[0;31mKeyboardInterrupt\u001B[0m                         Traceback (most recent call last)",
      "Cell \u001B[0;32mIn[16], line 9\u001B[0m\n\u001B[1;32m      1\u001B[0m model \u001B[38;5;241m=\u001B[39m lgb\u001B[38;5;241m.\u001B[39mLGBMClassifier(\n\u001B[1;32m      2\u001B[0m     metric\u001B[38;5;241m=\u001B[39m\u001B[38;5;124m'\u001B[39m\u001B[38;5;124mbinary_error\u001B[39m\u001B[38;5;124m'\u001B[39m, \n\u001B[1;32m      3\u001B[0m     boosting_type\u001B[38;5;241m=\u001B[39m\u001B[38;5;124m'\u001B[39m\u001B[38;5;124mgbdt\u001B[39m\u001B[38;5;124m'\u001B[39m, \n\u001B[0;32m   (...)\u001B[0m\n\u001B[1;32m      6\u001B[0m     verbose\u001B[38;5;241m=\u001B[39m\u001B[38;5;241m-\u001B[39m\u001B[38;5;241m1\u001B[39m,\n\u001B[1;32m      7\u001B[0m )\n\u001B[0;32m----> 9\u001B[0m \u001B[43mmodel\u001B[49m\u001B[38;5;241;43m.\u001B[39;49m\u001B[43mfit\u001B[49m\u001B[43m(\u001B[49m\u001B[43mX_train\u001B[49m\u001B[43m,\u001B[49m\u001B[43m \u001B[49m\u001B[43my_train\u001B[49m\u001B[43m)\u001B[49m \n\u001B[1;32m     11\u001B[0m y_pred \u001B[38;5;241m=\u001B[39m model\u001B[38;5;241m.\u001B[39mpredict(X_test)\n\u001B[1;32m     13\u001B[0m data \u001B[38;5;241m=\u001B[39m pd\u001B[38;5;241m.\u001B[39mDataFrame(\n\u001B[1;32m     14\u001B[0m     {\n\u001B[1;32m     15\u001B[0m         \u001B[38;5;124m\"\u001B[39m\u001B[38;5;124mactual\u001B[39m\u001B[38;5;124m\"\u001B[39m: y_test\u001B[38;5;241m.\u001B[39mreset_index()\u001B[38;5;241m.\u001B[39mdrop(\u001B[38;5;124m\"\u001B[39m\u001B[38;5;124mindex\u001B[39m\u001B[38;5;124m\"\u001B[39m, axis\u001B[38;5;241m=\u001B[39m\u001B[38;5;241m1\u001B[39m)[\u001B[38;5;124m\"\u001B[39m\u001B[38;5;124mhas_incident\u001B[39m\u001B[38;5;124m\"\u001B[39m],\n\u001B[1;32m     16\u001B[0m         \u001B[38;5;124m\"\u001B[39m\u001B[38;5;124mpredicted\u001B[39m\u001B[38;5;124m\"\u001B[39m: y_pred,\n\u001B[1;32m     17\u001B[0m     }, \n\u001B[1;32m     18\u001B[0m )\n",
      "File \u001B[0;32m~/.local/share/virtualenvs/storm_incidents-0zrC5Q2k/lib/python3.11/site-packages/lightgbm/sklearn.py:1187\u001B[0m, in \u001B[0;36mLGBMClassifier.fit\u001B[0;34m(self, X, y, sample_weight, init_score, eval_set, eval_names, eval_sample_weight, eval_class_weight, eval_init_score, eval_metric, feature_name, categorical_feature, callbacks, init_model)\u001B[0m\n\u001B[1;32m   1184\u001B[0m         \u001B[38;5;28;01melse\u001B[39;00m:\n\u001B[1;32m   1185\u001B[0m             valid_sets\u001B[38;5;241m.\u001B[39mappend((valid_x, \u001B[38;5;28mself\u001B[39m\u001B[38;5;241m.\u001B[39m_le\u001B[38;5;241m.\u001B[39mtransform(valid_y)))\n\u001B[0;32m-> 1187\u001B[0m \u001B[38;5;28;43msuper\u001B[39;49m\u001B[43m(\u001B[49m\u001B[43m)\u001B[49m\u001B[38;5;241;43m.\u001B[39;49m\u001B[43mfit\u001B[49m\u001B[43m(\u001B[49m\n\u001B[1;32m   1188\u001B[0m \u001B[43m    \u001B[49m\u001B[43mX\u001B[49m\u001B[43m,\u001B[49m\n\u001B[1;32m   1189\u001B[0m \u001B[43m    \u001B[49m\u001B[43m_y\u001B[49m\u001B[43m,\u001B[49m\n\u001B[1;32m   1190\u001B[0m \u001B[43m    \u001B[49m\u001B[43msample_weight\u001B[49m\u001B[38;5;241;43m=\u001B[39;49m\u001B[43msample_weight\u001B[49m\u001B[43m,\u001B[49m\n\u001B[1;32m   1191\u001B[0m \u001B[43m    \u001B[49m\u001B[43minit_score\u001B[49m\u001B[38;5;241;43m=\u001B[39;49m\u001B[43minit_score\u001B[49m\u001B[43m,\u001B[49m\n\u001B[1;32m   1192\u001B[0m \u001B[43m    \u001B[49m\u001B[43meval_set\u001B[49m\u001B[38;5;241;43m=\u001B[39;49m\u001B[43mvalid_sets\u001B[49m\u001B[43m,\u001B[49m\n\u001B[1;32m   1193\u001B[0m \u001B[43m    \u001B[49m\u001B[43meval_names\u001B[49m\u001B[38;5;241;43m=\u001B[39;49m\u001B[43meval_names\u001B[49m\u001B[43m,\u001B[49m\n\u001B[1;32m   1194\u001B[0m \u001B[43m    \u001B[49m\u001B[43meval_sample_weight\u001B[49m\u001B[38;5;241;43m=\u001B[39;49m\u001B[43meval_sample_weight\u001B[49m\u001B[43m,\u001B[49m\n\u001B[1;32m   1195\u001B[0m \u001B[43m    \u001B[49m\u001B[43meval_class_weight\u001B[49m\u001B[38;5;241;43m=\u001B[39;49m\u001B[43meval_class_weight\u001B[49m\u001B[43m,\u001B[49m\n\u001B[1;32m   1196\u001B[0m \u001B[43m    \u001B[49m\u001B[43meval_init_score\u001B[49m\u001B[38;5;241;43m=\u001B[39;49m\u001B[43meval_init_score\u001B[49m\u001B[43m,\u001B[49m\n\u001B[1;32m   1197\u001B[0m \u001B[43m    \u001B[49m\u001B[43meval_metric\u001B[49m\u001B[38;5;241;43m=\u001B[39;49m\u001B[43meval_metric\u001B[49m\u001B[43m,\u001B[49m\n\u001B[1;32m   1198\u001B[0m \u001B[43m    \u001B[49m\u001B[43mfeature_name\u001B[49m\u001B[38;5;241;43m=\u001B[39;49m\u001B[43mfeature_name\u001B[49m\u001B[43m,\u001B[49m\n\u001B[1;32m   1199\u001B[0m \u001B[43m    \u001B[49m\u001B[43mcategorical_feature\u001B[49m\u001B[38;5;241;43m=\u001B[39;49m\u001B[43mcategorical_feature\u001B[49m\u001B[43m,\u001B[49m\n\u001B[1;32m   1200\u001B[0m \u001B[43m    \u001B[49m\u001B[43mcallbacks\u001B[49m\u001B[38;5;241;43m=\u001B[39;49m\u001B[43mcallbacks\u001B[49m\u001B[43m,\u001B[49m\n\u001B[1;32m   1201\u001B[0m \u001B[43m    \u001B[49m\u001B[43minit_model\u001B[49m\u001B[38;5;241;43m=\u001B[39;49m\u001B[43minit_model\u001B[49m\n\u001B[1;32m   1202\u001B[0m \u001B[43m\u001B[49m\u001B[43m)\u001B[49m\n\u001B[1;32m   1203\u001B[0m \u001B[38;5;28;01mreturn\u001B[39;00m \u001B[38;5;28mself\u001B[39m\n",
      "File \u001B[0;32m~/.local/share/virtualenvs/storm_incidents-0zrC5Q2k/lib/python3.11/site-packages/lightgbm/sklearn.py:885\u001B[0m, in \u001B[0;36mLGBMModel.fit\u001B[0;34m(self, X, y, sample_weight, init_score, group, eval_set, eval_names, eval_sample_weight, eval_class_weight, eval_init_score, eval_group, eval_metric, feature_name, categorical_feature, callbacks, init_model)\u001B[0m\n\u001B[1;32m    882\u001B[0m evals_result: _EvalResultDict \u001B[38;5;241m=\u001B[39m {}\n\u001B[1;32m    883\u001B[0m callbacks\u001B[38;5;241m.\u001B[39mappend(record_evaluation(evals_result))\n\u001B[0;32m--> 885\u001B[0m \u001B[38;5;28mself\u001B[39m\u001B[38;5;241m.\u001B[39m_Booster \u001B[38;5;241m=\u001B[39m \u001B[43mtrain\u001B[49m\u001B[43m(\u001B[49m\n\u001B[1;32m    886\u001B[0m \u001B[43m    \u001B[49m\u001B[43mparams\u001B[49m\u001B[38;5;241;43m=\u001B[39;49m\u001B[43mparams\u001B[49m\u001B[43m,\u001B[49m\n\u001B[1;32m    887\u001B[0m \u001B[43m    \u001B[49m\u001B[43mtrain_set\u001B[49m\u001B[38;5;241;43m=\u001B[39;49m\u001B[43mtrain_set\u001B[49m\u001B[43m,\u001B[49m\n\u001B[1;32m    888\u001B[0m \u001B[43m    \u001B[49m\u001B[43mnum_boost_round\u001B[49m\u001B[38;5;241;43m=\u001B[39;49m\u001B[38;5;28;43mself\u001B[39;49m\u001B[38;5;241;43m.\u001B[39;49m\u001B[43mn_estimators\u001B[49m\u001B[43m,\u001B[49m\n\u001B[1;32m    889\u001B[0m \u001B[43m    \u001B[49m\u001B[43mvalid_sets\u001B[49m\u001B[38;5;241;43m=\u001B[39;49m\u001B[43mvalid_sets\u001B[49m\u001B[43m,\u001B[49m\n\u001B[1;32m    890\u001B[0m \u001B[43m    \u001B[49m\u001B[43mvalid_names\u001B[49m\u001B[38;5;241;43m=\u001B[39;49m\u001B[43meval_names\u001B[49m\u001B[43m,\u001B[49m\n\u001B[1;32m    891\u001B[0m \u001B[43m    \u001B[49m\u001B[43mfeval\u001B[49m\u001B[38;5;241;43m=\u001B[39;49m\u001B[43meval_metrics_callable\u001B[49m\u001B[43m,\u001B[49m\u001B[43m  \u001B[49m\u001B[38;5;66;43;03m# type: ignore[arg-type]\u001B[39;49;00m\n\u001B[1;32m    892\u001B[0m \u001B[43m    \u001B[49m\u001B[43minit_model\u001B[49m\u001B[38;5;241;43m=\u001B[39;49m\u001B[43minit_model\u001B[49m\u001B[43m,\u001B[49m\n\u001B[1;32m    893\u001B[0m \u001B[43m    \u001B[49m\u001B[43mfeature_name\u001B[49m\u001B[38;5;241;43m=\u001B[39;49m\u001B[43mfeature_name\u001B[49m\u001B[43m,\u001B[49m\n\u001B[1;32m    894\u001B[0m \u001B[43m    \u001B[49m\u001B[43mcallbacks\u001B[49m\u001B[38;5;241;43m=\u001B[39;49m\u001B[43mcallbacks\u001B[49m\n\u001B[1;32m    895\u001B[0m \u001B[43m\u001B[49m\u001B[43m)\u001B[49m\n\u001B[1;32m    897\u001B[0m \u001B[38;5;28mself\u001B[39m\u001B[38;5;241m.\u001B[39m_evals_result \u001B[38;5;241m=\u001B[39m evals_result\n\u001B[1;32m    898\u001B[0m \u001B[38;5;28mself\u001B[39m\u001B[38;5;241m.\u001B[39m_best_iteration \u001B[38;5;241m=\u001B[39m \u001B[38;5;28mself\u001B[39m\u001B[38;5;241m.\u001B[39m_Booster\u001B[38;5;241m.\u001B[39mbest_iteration\n",
      "File \u001B[0;32m~/.local/share/virtualenvs/storm_incidents-0zrC5Q2k/lib/python3.11/site-packages/lightgbm/engine.py:276\u001B[0m, in \u001B[0;36mtrain\u001B[0;34m(params, train_set, num_boost_round, valid_sets, valid_names, feval, init_model, feature_name, categorical_feature, keep_training_booster, callbacks)\u001B[0m\n\u001B[1;32m    268\u001B[0m \u001B[38;5;28;01mfor\u001B[39;00m cb \u001B[38;5;129;01min\u001B[39;00m callbacks_before_iter:\n\u001B[1;32m    269\u001B[0m     cb(callback\u001B[38;5;241m.\u001B[39mCallbackEnv(model\u001B[38;5;241m=\u001B[39mbooster,\n\u001B[1;32m    270\u001B[0m                             params\u001B[38;5;241m=\u001B[39mparams,\n\u001B[1;32m    271\u001B[0m                             iteration\u001B[38;5;241m=\u001B[39mi,\n\u001B[1;32m    272\u001B[0m                             begin_iteration\u001B[38;5;241m=\u001B[39minit_iteration,\n\u001B[1;32m    273\u001B[0m                             end_iteration\u001B[38;5;241m=\u001B[39minit_iteration \u001B[38;5;241m+\u001B[39m num_boost_round,\n\u001B[1;32m    274\u001B[0m                             evaluation_result_list\u001B[38;5;241m=\u001B[39m\u001B[38;5;28;01mNone\u001B[39;00m))\n\u001B[0;32m--> 276\u001B[0m \u001B[43mbooster\u001B[49m\u001B[38;5;241;43m.\u001B[39;49m\u001B[43mupdate\u001B[49m\u001B[43m(\u001B[49m\u001B[43mfobj\u001B[49m\u001B[38;5;241;43m=\u001B[39;49m\u001B[43mfobj\u001B[49m\u001B[43m)\u001B[49m\n\u001B[1;32m    278\u001B[0m evaluation_result_list: List[_LGBM_BoosterEvalMethodResultType] \u001B[38;5;241m=\u001B[39m []\n\u001B[1;32m    279\u001B[0m \u001B[38;5;66;03m# check evaluation result.\u001B[39;00m\n",
      "File \u001B[0;32m~/.local/share/virtualenvs/storm_incidents-0zrC5Q2k/lib/python3.11/site-packages/lightgbm/basic.py:3891\u001B[0m, in \u001B[0;36mBooster.update\u001B[0;34m(self, train_set, fobj)\u001B[0m\n\u001B[1;32m   3889\u001B[0m \u001B[38;5;28;01mif\u001B[39;00m \u001B[38;5;28mself\u001B[39m\u001B[38;5;241m.\u001B[39m__set_objective_to_none:\n\u001B[1;32m   3890\u001B[0m     \u001B[38;5;28;01mraise\u001B[39;00m LightGBMError(\u001B[38;5;124m'\u001B[39m\u001B[38;5;124mCannot update due to null objective function.\u001B[39m\u001B[38;5;124m'\u001B[39m)\n\u001B[0;32m-> 3891\u001B[0m _safe_call(\u001B[43m_LIB\u001B[49m\u001B[38;5;241;43m.\u001B[39;49m\u001B[43mLGBM_BoosterUpdateOneIter\u001B[49m\u001B[43m(\u001B[49m\n\u001B[1;32m   3892\u001B[0m \u001B[43m    \u001B[49m\u001B[38;5;28;43mself\u001B[39;49m\u001B[38;5;241;43m.\u001B[39;49m\u001B[43m_handle\u001B[49m\u001B[43m,\u001B[49m\n\u001B[1;32m   3893\u001B[0m \u001B[43m    \u001B[49m\u001B[43mctypes\u001B[49m\u001B[38;5;241;43m.\u001B[39;49m\u001B[43mbyref\u001B[49m\u001B[43m(\u001B[49m\u001B[43mis_finished\u001B[49m\u001B[43m)\u001B[49m\u001B[43m)\u001B[49m)\n\u001B[1;32m   3894\u001B[0m \u001B[38;5;28mself\u001B[39m\u001B[38;5;241m.\u001B[39m__is_predicted_cur_iter \u001B[38;5;241m=\u001B[39m [\u001B[38;5;28;01mFalse\u001B[39;00m \u001B[38;5;28;01mfor\u001B[39;00m _ \u001B[38;5;129;01min\u001B[39;00m \u001B[38;5;28mrange\u001B[39m(\u001B[38;5;28mself\u001B[39m\u001B[38;5;241m.\u001B[39m__num_dataset)]\n\u001B[1;32m   3895\u001B[0m \u001B[38;5;28;01mreturn\u001B[39;00m is_finished\u001B[38;5;241m.\u001B[39mvalue \u001B[38;5;241m==\u001B[39m \u001B[38;5;241m1\u001B[39m\n",
      "\u001B[0;31mKeyboardInterrupt\u001B[0m: "
     ]
    }
   ],
   "source": [
    "model = lgb.LGBMClassifier(\n",
    "    metric='binary_error', \n",
    "    boosting_type='gbdt', \n",
    "    class_weight={False: 0.000001, True: 0.99999},\n",
    "    n_estimators=1_000,\n",
    "    verbose=-1,\n",
    ")\n",
    "  \n",
    "model.fit(X_train, y_train) \n",
    "  \n",
    "y_pred = model.predict(X_test)\n",
    "\n",
    "data = pd.DataFrame(\n",
    "    {\n",
    "        \"actual\": y_test.reset_index().drop(\"index\", axis=1)[\"has_incident\"],\n",
    "        \"predicted\": y_pred,\n",
    "    }, \n",
    ")\n",
    "\n",
    "print(pd.crosstab(data.actual, data.predicted))\n",
    "print(f1_score(y_test, y_pred))\n",
    "print(precision_score(y_test, y_pred))\n",
    "print(recall_score(y_test, y_pred))"
   ],
   "metadata": {
    "collapsed": false,
    "ExecuteTime": {
     "end_time": "2024-02-08T20:48:08.300939Z",
     "start_time": "2024-02-08T20:03:32.012523Z"
    }
   },
   "id": "853edd1c66325795",
   "execution_count": 16
  },
  {
   "cell_type": "code",
   "outputs": [
    {
     "name": "stdout",
     "output_type": "stream",
     "text": [
      "predicted       0    1\n",
      "actual                \n",
      "0          786071    3\n",
      "1              72  232\n",
      "====================================================================================================\n",
      "Accuracy in testing: 0.9999046260195479\n",
      "F1 Score in testing: 0.8608534322820037\n",
      "Recall Score in testing: 0.7631578947368421\n",
      "Precision in testing: 0.9872340425531915\n",
      "====================================================================================================\n"
     ]
    }
   ],
   "source": [
    "boundary = 0.04\n",
    "\n",
    "params = {\n",
    "    'boosting_type': 'gbdt',\n",
    "    'reg_alpha': 1,\n",
    "    'reg_lambda': 5,\n",
    "    'num_leaves': 90,\n",
    "    'num_boost_round': 1_000,\n",
    "    'scale_pos_weight': 20_000,\n",
    "    'metric': 'binary_error',\n",
    "    'verbose': 0\n",
    "}\n",
    "\n",
    "def lgb_f1_score(y_hat, data):\n",
    "    y_true = data.get_label()\n",
    "    y_hat = np.where(y_hat < boundary, 0, 1)\n",
    "    return 'f1', f1_score(y_true, y_hat), True\n",
    "\n",
    "model = lgb.train(params, lgb.Dataset(X_train, label=y_train), feval=lgb_f1_score)\n",
    "\n",
    "y_pred = model.predict(X_test, num_iteration=model.best_iteration)\n",
    "\n",
    "data = pd.DataFrame(\n",
    "    {\n",
    "        \"actual\": y_test.reset_index().drop(\"index\", axis=1)[\"has_incident\"],\n",
    "        \"predicted\": np.where(y_pred <  boundary, 0, 1),\n",
    "    }, \n",
    ")\n",
    "\n",
    "print(pd.crosstab(data.actual, data.predicted))\n",
    "\n",
    "f1 = f1_score(y_test, np.where(y_pred < boundary, 0, 1))\n",
    "recall = recall_score(y_test, np.where(y_pred < boundary, 0, 1))\n",
    "precision = precision_score(y_test, np.where(y_pred < boundary, 0, 1))\n",
    "accuracy = accuracy_score(y_test, np.where(y_pred < boundary, 0, 1))\n",
    "print(f\"=\"*100)\n",
    "print(f\"Accuracy in testing: {accuracy}\")\n",
    "print(f\"F1 Score in testing: {f1}\")\n",
    "print(f\"Recall Score in testing: {recall}\")\n",
    "print(f\"Precision in testing: {precision}\")\n",
    "print(f\"=\"*100) "
   ],
   "metadata": {
    "collapsed": false,
    "ExecuteTime": {
     "end_time": "2024-02-02T09:11:21.097106Z",
     "start_time": "2024-02-02T09:09:21.196017Z"
    }
   },
   "id": "b89a685226789505",
   "execution_count": 30
  },
  {
   "cell_type": "code",
   "outputs": [],
   "source": [
    "joblib.dump(model, f\"lightgbm_model_{f1:.2f}.joblib\")"
   ],
   "metadata": {
    "collapsed": false,
    "ExecuteTime": {
     "start_time": "2024-02-02T09:08:08.531571Z"
    }
   },
   "id": "ea6f104c62385035",
   "execution_count": null
  },
  {
   "cell_type": "code",
   "outputs": [
    {
     "data": {
      "text/plain": "<Figure size 640x480 with 2 Axes>",
      "image/png": "[encoded data removed]"
     },
     "metadata": {},
     "output_type": "display_data"
    }
   ],
   "source": [
    "import numpy as np\n",
    "import seaborn as sns\n",
    "import matplotlib.pyplot as plt\n",
    "\n",
    "sns.set_style(\"darkgrid\")\n",
    "\n",
    "conf_matrix = pd.crosstab(data.actual, data.predicted)\n",
    "\n",
    "sns.heatmap(conf_matrix, annot=True, fmt=\"d\", cmap=\"Blues\")\n",
    "plt.xlabel('Predicted')\n",
    "plt.ylabel('Actual')\n",
    "plt.title('Confusion Matrix')\n",
    "plt.show()"
   ],
   "metadata": {
    "collapsed": false,
    "ExecuteTime": {
     "end_time": "2024-02-09T13:36:06.582849Z",
     "start_time": "2024-02-09T13:36:06.410554Z"
    }
   },
   "id": "4b020325b614d0d9",
   "execution_count": 33
  },
  {
   "cell_type": "code",
   "outputs": [],
   "source": [],
   "metadata": {
    "collapsed": false
   },
   "id": "a627860381777654"
  }
 ],
 "metadata": {
  "kernelspec": {
   "display_name": "Python 3",
   "language": "python",
   "name": "python3"
  },
  "language_info": {
   "codemirror_mode": {
    "name": "ipython",
    "version": 2
   },
   "file_extension": ".py",
   "mimetype": "text/x-python",
   "name": "python",
   "nbconvert_exporter": "python",
   "pygments_lexer": "ipython2",
   "version": "2.7.6"
  }
 },
 "nbformat": 4,
 "nbformat_minor": 5
}
