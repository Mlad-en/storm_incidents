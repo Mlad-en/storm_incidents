{
 "cells": [
  {
   "cell_type": "code",
   "execution_count": 13,
   "id": "initial_id",
   "metadata": {
    "collapsed": true,
    "ExecuteTime": {
     "end_time": "2024-02-02T09:07:32.766799Z",
     "start_time": "2024-02-02T09:07:32.710942Z"
    }
   },
   "outputs": [],
   "source": [
    "from undersampling import undersample_daily_weather_data, undersample_grid_data, DatabaseTables, FetchDBData\n",
    "from imblearn.under_sampling import NearMiss\n",
    "import pandas as pd\n",
    "\n",
    "\n",
    "from sklearn.model_selection import train_test_split\n",
    "from sklearn.metrics import accuracy_score, f1_score, precision_score, recall_score\n",
    "\n",
    "import matplotlib.pyplot as plt\n",
    "\n",
    "import lightgbm as lgb\n",
    "\n",
    "import numpy as np\n",
    "\n",
    "import joblib"
   ]
  },
  {
   "cell_type": "markdown",
   "source": [
    "# DATA Combination and Undersampling"
   ],
   "metadata": {
    "collapsed": false
   },
   "id": "e59ad263d9d15174"
  },
  {
   "cell_type": "code",
   "outputs": [
    {
     "name": "stdout",
     "output_type": "stream",
     "text": [
      "Ratio Weather:\n",
      "has_incident\n",
      "False    1139\n",
      "True      516\n",
      "Name: count, dtype: int64\n"
     ]
    }
   ],
   "source": [
    "under_sampler = NearMiss(version=3, sampling_strategy=0.3)\n",
    "weather_data, has_incident  = undersample_daily_weather_data(under_sampler, DatabaseTables.daily_weather_with_incidents)\n",
    "weather_data.loc[:, \"has_incident\"] = has_incident"
   ],
   "metadata": {
    "collapsed": false,
    "ExecuteTime": {
     "end_time": "2024-02-02T09:07:33.360729Z",
     "start_time": "2024-02-02T09:07:32.741306Z"
    }
   },
   "id": "713fc7e2fdf46025",
   "execution_count": 14
  },
  {
   "cell_type": "code",
   "outputs": [
    {
     "name": "stdout",
     "output_type": "stream",
     "text": [
      "Ratio of Grids:\n",
      "has_incident\n",
      "0    1243\n",
      "1    1243\n",
      "Name: count, dtype: int64\n"
     ]
    }
   ],
   "source": [
    "under_sampler = NearMiss(version=3, sampling_strategy=1)\n",
    "grid_data, has_incident = undersample_grid_data(under_sampler)\n",
    "grid_data.loc[:, \"has_incident\"] = has_incident"
   ],
   "metadata": {
    "collapsed": false,
    "ExecuteTime": {
     "end_time": "2024-02-02T09:07:49.883863Z",
     "start_time": "2024-02-02T09:07:33.354697Z"
    }
   },
   "id": "a1f1ef18101ad39a",
   "execution_count": 15
  },
  {
   "cell_type": "code",
   "outputs": [],
   "source": [
    "incidents_grid_date = FetchDBData(DatabaseTables.count_tree_incidents_per_grid_date).get_database_data()"
   ],
   "metadata": {
    "collapsed": false,
    "ExecuteTime": {
     "end_time": "2024-02-02T09:07:50.055826Z",
     "start_time": "2024-02-02T09:07:49.876297Z"
    }
   },
   "id": "bab0586beffb9988",
   "execution_count": 16
  },
  {
   "cell_type": "code",
   "outputs": [],
   "source": [
    "weather_data[\"dt_iso\"] = weather_data[\"dt_iso\"].astype(str).str.split(' ').apply(lambda x: x[0])"
   ],
   "metadata": {
    "collapsed": false,
    "ExecuteTime": {
     "end_time": "2024-02-02T09:07:50.072227Z",
     "start_time": "2024-02-02T09:07:50.064942Z"
    }
   },
   "id": "4e7400bd3fcb6e40",
   "execution_count": 17
  },
  {
   "cell_type": "code",
   "outputs": [],
   "source": [
    "incidents_grid_date[\"date\"] = incidents_grid_date[\"date\"].astype(str)"
   ],
   "metadata": {
    "collapsed": false,
    "ExecuteTime": {
     "end_time": "2024-02-02T09:07:50.079781Z",
     "start_time": "2024-02-02T09:07:50.072471Z"
    }
   },
   "id": "fec2cf0f81837d52",
   "execution_count": 18
  },
  {
   "cell_type": "code",
   "outputs": [],
   "source": [
    "weather_data_incidents = weather_data.query(\"`has_incident` == 1\").merge(incidents_grid_date, left_on=\"dt_iso\", right_on=\"date\")"
   ],
   "metadata": {
    "collapsed": false,
    "ExecuteTime": {
     "end_time": "2024-02-02T09:07:50.088722Z",
     "start_time": "2024-02-02T09:07:50.082730Z"
    }
   },
   "id": "9989d66824009de3",
   "execution_count": 19
  },
  {
   "cell_type": "code",
   "outputs": [],
   "source": [
    "weather_grid_has_incident = (\n",
    "    weather_data_incidents\n",
    "    .drop([\"count_incidents_y\", \"count_incidents_x\", \"max_incident_priority\", \"has_incident\"], axis=1)\n",
    "    .merge(grid_data, on=\"grid_id\")\n",
    ")"
   ],
   "metadata": {
    "collapsed": false,
    "ExecuteTime": {
     "end_time": "2024-02-02T09:07:50.102719Z",
     "start_time": "2024-02-02T09:07:50.089850Z"
    }
   },
   "id": "22ca1a8fefa974f3",
   "execution_count": 20
  },
  {
   "cell_type": "code",
   "outputs": [],
   "source": [
    "weather_grid_no_incident = grid_data.query(\"`has_incident` == 0\").merge(weather_data_incidents, how=\"cross\").drop([\"count_incidents_y\", \"count_incidents_x\", \"max_incident_priority\", \"has_incident_y\", \"grid_id_y\"], axis=1).rename(columns={\"grid_id_x\": \"grid_id\", \"has_incident_x\": \"has_incident\"})"
   ],
   "metadata": {
    "collapsed": false,
    "ExecuteTime": {
     "end_time": "2024-02-02T09:07:53.751310Z",
     "start_time": "2024-02-02T09:07:50.104820Z"
    }
   },
   "id": "b74e30f5593724a",
   "execution_count": 21
  },
  {
   "cell_type": "code",
   "outputs": [],
   "source": [
    "weather_data_no_incidents = weather_data.query(\"`has_incident` == 0\").merge(incidents_grid_date, left_on=\"dt_iso\", right_on=\"date\")\n",
    "weather_grid_weather_no_incidents = grid_data.query(\"`has_incident` == 0\").merge(weather_data_incidents, how=\"cross\").drop([\"count_incidents_y\", \"count_incidents_x\", \"max_incident_priority\", \"has_incident_y\", \"grid_id_y\"], axis=1).rename(columns={\"grid_id_x\": \"grid_id\", \"has_incident_x\": \"has_incident\"})"
   ],
   "metadata": {
    "collapsed": false,
    "ExecuteTime": {
     "end_time": "2024-02-02T09:07:57.236320Z",
     "start_time": "2024-02-02T09:07:53.755852Z"
    }
   },
   "id": "dd8b2c70dc7cf46d",
   "execution_count": 22
  },
  {
   "cell_type": "code",
   "outputs": [],
   "source": [
    "weather_grid_weather_no_incidents = weather_grid_weather_no_incidents[weather_grid_has_incident.columns]"
   ],
   "metadata": {
    "collapsed": false,
    "ExecuteTime": {
     "end_time": "2024-02-02T09:07:57.880012Z",
     "start_time": "2024-02-02T09:07:57.240576Z"
    }
   },
   "id": "ecafb7b09d67a760",
   "execution_count": 23
  },
  {
   "cell_type": "code",
   "outputs": [],
   "source": [
    "weather_grid_no_incident = weather_grid_no_incident[weather_grid_has_incident.columns]"
   ],
   "metadata": {
    "collapsed": false,
    "ExecuteTime": {
     "end_time": "2024-02-02T09:07:58.532021Z",
     "start_time": "2024-02-02T09:07:57.881318Z"
    }
   },
   "id": "bdd1a879e0cd7731",
   "execution_count": 24
  },
  {
   "cell_type": "code",
   "outputs": [],
   "source": [
    "combined_data = pd.concat([\n",
    "    weather_grid_has_incident, \n",
    "    weather_grid_weather_no_incidents, \n",
    "    weather_grid_no_incident])\n",
    "combined_data = combined_data.drop([\"hour\",\"date\",\"total_incident_duration\"], axis=1)"
   ],
   "metadata": {
    "collapsed": false,
    "ExecuteTime": {
     "end_time": "2024-02-02T09:08:00.967330Z",
     "start_time": "2024-02-02T09:07:58.533158Z"
    }
   },
   "id": "66bb4ba423bf745c",
   "execution_count": 25
  },
  {
   "cell_type": "code",
   "outputs": [],
   "source": [
    "combined_data = combined_data.drop([\"grid_id\", \"weather_main\", \"dt_iso\"], axis=1)"
   ],
   "metadata": {
    "collapsed": false,
    "ExecuteTime": {
     "end_time": "2024-02-02T09:08:02.017885Z",
     "start_time": "2024-02-02T09:08:00.919032Z"
    }
   },
   "id": "18dc32b5ec0972ed",
   "execution_count": 26
  },
  {
   "cell_type": "markdown",
   "source": [
    "# Modeling"
   ],
   "metadata": {
    "collapsed": false
   },
   "id": "8e1401c959f47ba2"
  },
  {
   "cell_type": "code",
   "outputs": [],
   "source": [
    "exclude_cols = [\n",
    "    \"dt_iso\",\n",
    "    \"grid_id\",\n",
    "]\n",
    "\n",
    "target_col = 'has_incident'\n",
    "\n",
    "predictor_cols =[col for col in combined_data.columns if col not in [target_col]]\n",
    "one_hot_cols = [\"weather_main\"]\n",
    "numeric_cols = [col for col in predictor_cols if col not in exclude_cols + one_hot_cols]\n",
    "\n",
    "X = combined_data[predictor_cols]\n",
    "y = combined_data[target_col]\n",
    "\n",
    "X_train, X_test, y_train, y_test = train_test_split(X, y, test_size=0.2, random_state=42, stratify=y)"
   ],
   "metadata": {
    "collapsed": false,
    "ExecuteTime": {
     "end_time": "2024-02-02T09:08:08.488013Z",
     "start_time": "2024-02-02T09:08:02.018495Z"
    }
   },
   "id": "6c040384c57c387d",
   "execution_count": 27
  },
  {
   "cell_type": "code",
   "outputs": [
    {
     "name": "stdout",
     "output_type": "stream",
     "text": [
      "predicted       0    1\n",
      "actual                \n",
      "0          786071    3\n",
      "1              72  232\n",
      "====================================================================================================\n",
      "Accuracy in testing: 0.9999046260195479\n",
      "F1 Score in testing: 0.8608534322820037\n",
      "Recall Score in testing: 0.7631578947368421\n",
      "Precision in testing: 0.9872340425531915\n",
      "====================================================================================================\n"
     ]
    }
   ],
   "source": [
    "boundary = 0.04\n",
    "\n",
    "params = {\n",
    "    'boosting_type': 'gbdt',\n",
    "    'reg_alpha': 1,\n",
    "    'reg_lambda': 5,\n",
    "    'num_leaves': 90,\n",
    "    'num_boost_round': 1_000,\n",
    "    'scale_pos_weight': 20_000,\n",
    "    'metric': 'binary_error',\n",
    "    'verbose': 0\n",
    "}\n",
    "\n",
    "def lgb_f1_score(y_hat, data):\n",
    "    y_true = data.get_label()\n",
    "    y_hat = np.where(y_hat < boundary, 0, 1)\n",
    "    return 'f1', f1_score(y_true, y_hat), True\n",
    "\n",
    "model = lgb.train(params, lgb.Dataset(X_train, label=y_train), feval=lgb_f1_score)\n",
    "\n",
    "y_pred = model.predict(X_test, num_iteration=model.best_iteration)\n",
    "\n",
    "data = pd.DataFrame(\n",
    "    {\n",
    "        \"actual\": y_test.reset_index().drop(\"index\", axis=1)[\"has_incident\"],\n",
    "        \"predicted\": np.where(y_pred <  boundary, 0, 1),\n",
    "    }, \n",
    ")\n",
    "\n",
    "print(pd.crosstab(data.actual, data.predicted))\n",
    "\n",
    "f1 = f1_score(y_test, np.where(y_pred < boundary, 0, 1))\n",
    "recall = recall_score(y_test, np.where(y_pred < boundary, 0, 1))\n",
    "precision = precision_score(y_test, np.where(y_pred < boundary, 0, 1))\n",
    "accuracy = accuracy_score(y_test, np.where(y_pred < boundary, 0, 1))\n",
    "print(f\"=\"*100)\n",
    "print(f\"Accuracy in testing: {accuracy}\")\n",
    "print(f\"F1 Score in testing: {f1}\")\n",
    "print(f\"Recall Score in testing: {recall}\")\n",
    "print(f\"Precision in testing: {precision}\")\n",
    "print(f\"=\"*100) "
   ],
   "metadata": {
    "collapsed": false,
    "ExecuteTime": {
     "end_time": "2024-02-02T09:11:21.097106Z",
     "start_time": "2024-02-02T09:09:21.196017Z"
    }
   },
   "id": "b89a685226789505",
   "execution_count": 30
  },
  {
   "cell_type": "code",
   "outputs": [],
   "source": [
    "joblib.dump(model, f\"lightgbm_model_{f1:.2f}.joblib\")"
   ],
   "metadata": {
    "collapsed": false,
    "ExecuteTime": {
     "start_time": "2024-02-02T09:08:08.531571Z"
    }
   },
   "id": "ea6f104c62385035",
   "execution_count": null
  }
 ],
 "metadata": {
  "kernelspec": {
   "display_name": "Python 3",
   "language": "python",
   "name": "python3"
  },
  "language_info": {
   "codemirror_mode": {
    "name": "ipython",
    "version": 2
   },
   "file_extension": ".py",
   "mimetype": "text/x-python",
   "name": "python",
   "nbconvert_exporter": "python",
   "pygments_lexer": "ipython2",
   "version": "2.7.6"
  }
 },
 "nbformat": 4,
 "nbformat_minor": 5
}
