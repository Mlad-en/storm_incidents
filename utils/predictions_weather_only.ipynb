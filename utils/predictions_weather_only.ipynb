{
 "cells": [
  {
   "cell_type": "code",
   "execution_count": 32,
   "id": "initial_id",
   "metadata": {
    "collapsed": true,
    "ExecuteTime": {
     "end_time": "2024-02-08T20:05:44.221360Z",
     "start_time": "2024-02-08T20:05:44.177900Z"
    }
   },
   "outputs": [],
   "source": [
    "from undersampling import  DatabaseTables, FetchDBData\n",
    "import pandas as pd\n",
    "import numpy as np\n",
    "\n",
    "from sklearn.model_selection import train_test_split\n",
    "from sklearn.metrics import f1_score, precision_score, recall_score\n",
    "\n",
    "\n",
    "from lightgbm import LGBMClassifier \n",
    "from sklearn.preprocessing import OneHotEncoder, PowerTransformer, MinMaxScaler\n",
    "from sklearn.compose import ColumnTransformer\n",
    "from sklearn.pipeline import Pipeline\n",
    "\n",
    "from imblearn.under_sampling import NearMiss\n",
    "from imblearn.over_sampling import SMOTE\n",
    "from imblearn.pipeline import Pipeline as ImbalancedPipeline"
   ]
  },
  {
   "cell_type": "markdown",
   "source": [
    "# DATA Combination and Undersampling"
   ],
   "metadata": {
    "collapsed": false
   },
   "id": "e59ad263d9d15174"
  },
  {
   "cell_type": "code",
   "outputs": [],
   "source": [
    "weather_data = FetchDBData(DatabaseTables.full_sampled_weather_with_incidents).get_database_data()"
   ],
   "metadata": {
    "collapsed": false,
    "ExecuteTime": {
     "end_time": "2024-02-08T19:41:26.253538Z",
     "start_time": "2024-02-08T19:41:12.911200Z"
    }
   },
   "id": "713fc7e2fdf46025",
   "execution_count": 2
  },
  {
   "cell_type": "markdown",
   "source": [
    "# Modeling"
   ],
   "metadata": {
    "collapsed": false
   },
   "id": "8e1401c959f47ba2"
  },
  {
   "cell_type": "code",
   "outputs": [],
   "source": [
    "exclude_cols = [\n",
    "    \"dt_iso\",\n",
    "    \"grid_id\",\n",
    "    \"count_incidents\",\n",
    "]\n",
    "\n",
    "target_col = 'has_incident'\n",
    "\n",
    "predictor_cols =[col for col in weather_data.columns if col not in [target_col] + exclude_cols]\n",
    "one_hot_cols = [\"weather_main\"]\n",
    "numeric_cols = [col for col in predictor_cols if col not in exclude_cols + one_hot_cols]\n",
    "\n",
    "X = weather_data[predictor_cols]\n",
    "y = weather_data[target_col]\n",
    "\n",
    "X_train, X_test, y_train, y_test = train_test_split(X, y, test_size=0.2, random_state=123, stratify=y)"
   ],
   "metadata": {
    "collapsed": false,
    "ExecuteTime": {
     "end_time": "2024-02-08T19:41:26.266275Z",
     "start_time": "2024-02-08T19:41:26.258809Z"
    }
   },
   "id": "6c040384c57c387d",
   "execution_count": 3
  },
  {
   "cell_type": "code",
   "outputs": [
    {
     "name": "stdout",
     "output_type": "stream",
     "text": [
      "predicted  False  True \n",
      "actual                 \n",
      "False        596    352\n",
      "True          20     83\n",
      "0.30855018587360594\n",
      "0.19080459770114944\n",
      "0.8058252427184466\n"
     ]
    }
   ],
   "source": [
    "one_hot_enc = OneHotEncoder()\n",
    "\n",
    "\n",
    "col_trans = ColumnTransformer(\n",
    "    [(\"one_hot_encoder\", one_hot_enc, one_hot_cols)],\n",
    "    remainder=\"passthrough\"\n",
    ")\n",
    "\n",
    "  \n",
    "model = LGBMClassifier(\n",
    "    metric='binary_error', \n",
    "    boosting_type='dart', \n",
    "    class_weight={False: 0.05, True: 0.95},\n",
    "    n_estimators=10_000, \n",
    "    verbose=-1,\n",
    "    reg_alpha=10,\n",
    "    reg_lambda=10\n",
    ")\n",
    "\n",
    "model_pipeline = Pipeline(\n",
    "    [\n",
    "        (\"onehot_encoder\", col_trans),\n",
    "        (\"model\", model)\n",
    "    ]\n",
    ")\n",
    "  \n",
    "model_pipeline.fit(X_train, y_train) \n",
    "  \n",
    "y_pred = model_pipeline.predict(X_test)\n",
    "\n",
    "data = pd.DataFrame(\n",
    "    {\n",
    "        \"actual\": y_test.reset_index().drop(\"index\", axis=1)[\"has_incident\"],\n",
    "        \"predicted\": y_pred,\n",
    "    }, \n",
    ")\n",
    "\n",
    "print(pd.crosstab(data.actual, data.predicted))\n",
    "print(f1_score(y_test, y_pred))\n",
    "print(precision_score(y_test, y_pred))\n",
    "print(recall_score(y_test, y_pred))"
   ],
   "metadata": {
    "collapsed": false,
    "ExecuteTime": {
     "end_time": "2024-02-08T19:41:36.678960Z",
     "start_time": "2024-02-08T19:41:26.267032Z"
    }
   },
   "id": "b72e7369291c2878",
   "execution_count": 4
  },
  {
   "cell_type": "code",
   "outputs": [
    {
     "name": "stdout",
     "output_type": "stream",
     "text": [
      "predicted  False  True \n",
      "actual                 \n",
      "False        916     32\n",
      "True          63     40\n",
      "0.45714285714285713\n",
      "0.5555555555555556\n",
      "0.3883495145631068\n"
     ]
    }
   ],
   "source": [
    "one_hot_enc = OneHotEncoder()\n",
    "\n",
    "\n",
    "col_trans = ColumnTransformer(\n",
    "    [(\"one_hot_encoder\", one_hot_enc, one_hot_cols)],\n",
    "    remainder=\"passthrough\"\n",
    ")\n",
    "\n",
    "  \n",
    "model = LGBMClassifier(\n",
    "    metric='binary_error', \n",
    "    boosting_type='dart', \n",
    "    class_weight={False: 0.05, True: 0.95},\n",
    "    n_estimators=10_000, \n",
    "    verbose=-1,\n",
    ")\n",
    "\n",
    "model_pipeline = Pipeline(\n",
    "    [\n",
    "        (\"onehot_encoder\", col_trans),\n",
    "        (\"model\", model)\n",
    "    ]\n",
    ")\n",
    "  \n",
    "model_pipeline.fit(X_train, y_train) \n",
    "  \n",
    "y_pred = model_pipeline.predict(X_test)\n",
    "\n",
    "data = pd.DataFrame(\n",
    "    {\n",
    "        \"actual\": y_test.reset_index().drop(\"index\", axis=1)[\"has_incident\"],\n",
    "        \"predicted\": y_pred,\n",
    "    }, \n",
    ")\n",
    "\n",
    "print(pd.crosstab(data.actual, data.predicted))\n",
    "print(f1_score(y_test, y_pred))\n",
    "print(precision_score(y_test, y_pred))\n",
    "print(recall_score(y_test, y_pred))"
   ],
   "metadata": {
    "collapsed": false,
    "ExecuteTime": {
     "end_time": "2024-02-08T19:42:44.746140Z",
     "start_time": "2024-02-08T19:42:08.436718Z"
    }
   },
   "id": "7b0dc0f44c9a5533",
   "execution_count": 5
  },
  {
   "cell_type": "code",
   "outputs": [
    {
     "name": "stdout",
     "output_type": "stream",
     "text": [
      "predicted  False  True \n",
      "actual                 \n",
      "False        871     77\n",
      "True          52     51\n",
      "0.44155844155844154\n",
      "0.3984375\n",
      "0.49514563106796117\n"
     ]
    }
   ],
   "source": [
    "one_hot_enc = OneHotEncoder()\n",
    "\n",
    "\n",
    "col_trans = ColumnTransformer(\n",
    "    [(\"one_hot_encoder\", one_hot_enc, one_hot_cols)],\n",
    "    remainder=\"passthrough\"\n",
    ")\n",
    "\n",
    "  \n",
    "model = LGBMClassifier(\n",
    "    metric='binary_error', \n",
    "    boosting_type='gbdt', \n",
    "    class_weight={False: 0.0001, True: 0.9999},\n",
    "    n_estimators=50_000, \n",
    "    verbose=-1,\n",
    ")\n",
    "\n",
    "model_pipeline = Pipeline(\n",
    "    [\n",
    "        (\"onehot_encoder\", col_trans),\n",
    "        (\"model\", model)\n",
    "    ]\n",
    ")\n",
    "  \n",
    "model_pipeline.fit(X_train, y_train) \n",
    "  \n",
    "y_pred = model_pipeline.predict(X_test)\n",
    "\n",
    "data = pd.DataFrame(\n",
    "    {\n",
    "        \"actual\": y_test.reset_index().drop(\"index\", axis=1)[\"has_incident\"],\n",
    "        \"predicted\": y_pred,\n",
    "    }, \n",
    ")\n",
    "\n",
    "print(pd.crosstab(data.actual, data.predicted))\n",
    "print(f1_score(y_test, y_pred))\n",
    "print(precision_score(y_test, y_pred))\n",
    "print(recall_score(y_test, y_pred))"
   ],
   "metadata": {
    "collapsed": false,
    "ExecuteTime": {
     "end_time": "2024-02-08T19:49:16.535023Z",
     "start_time": "2024-02-08T19:49:08.917312Z"
    }
   },
   "id": "62acf28d8c09e940",
   "execution_count": 13
  },
  {
   "cell_type": "code",
   "outputs": [
    {
     "name": "stdout",
     "output_type": "stream",
     "text": [
      "predicted  False  True \n",
      "actual                 \n",
      "False        834    114\n",
      "True          42     61\n",
      "0.43884892086330934\n",
      "0.3485714285714286\n",
      "0.5922330097087378\n"
     ]
    }
   ],
   "source": [
    "one_hot_enc = OneHotEncoder()\n",
    "min_max_scaler = MinMaxScaler()\n",
    "\n",
    "col_trans = ColumnTransformer(\n",
    "    [(\"one_hot_encoder\", one_hot_enc, one_hot_cols),\n",
    "    (\"min_max_scaler\", min_max_scaler, numeric_cols)],\n",
    "    remainder=\"passthrough\"\n",
    ")\n",
    "\n",
    "  \n",
    "model = LGBMClassifier(\n",
    "    metric='binary_error', \n",
    "    boosting_type='gbdt', \n",
    "    class_weight={False: 0.0001, True: 0.9999},\n",
    "    n_estimators=50_000,\n",
    "    verbose=-1,\n",
    ")\n",
    "\n",
    "model_pipeline = Pipeline(\n",
    "    [\n",
    "        (\"onehot_encoder\", col_trans),\n",
    "        (\"model\", model)\n",
    "    ]\n",
    ")\n",
    "  \n",
    "model_pipeline.fit(X_train, y_train) \n",
    "  \n",
    "y_pred = model_pipeline.predict(X_test)\n",
    "\n",
    "data = pd.DataFrame(\n",
    "    {\n",
    "        \"actual\": y_test.reset_index().drop(\"index\", axis=1)[\"has_incident\"],\n",
    "        \"predicted\": y_pred,\n",
    "    }, \n",
    ")\n",
    "\n",
    "print(pd.crosstab(data.actual, data.predicted))\n",
    "print(f1_score(y_test, y_pred))\n",
    "print(precision_score(y_test, y_pred))\n",
    "print(recall_score(y_test, y_pred))"
   ],
   "metadata": {
    "collapsed": false,
    "ExecuteTime": {
     "end_time": "2024-02-08T19:50:13.456994Z",
     "start_time": "2024-02-08T19:50:06.128302Z"
    }
   },
   "id": "f86aae0a1e64e742",
   "execution_count": 16
  },
  {
   "cell_type": "code",
   "outputs": [
    {
     "name": "stdout",
     "output_type": "stream",
     "text": [
      "predicted  False  True \n",
      "actual                 \n",
      "False        526    422\n",
      "True          30     73\n",
      "0.24414715719063546\n",
      "0.14747474747474748\n",
      "0.7087378640776699\n"
     ]
    }
   ],
   "source": [
    "one_hot_enc = OneHotEncoder()\n",
    "min_max_scaler = MinMaxScaler()\n",
    "undersampling = NearMiss(sampling_strategy=0.3)\n",
    "\n",
    "\n",
    "col_trans = ColumnTransformer(\n",
    "    [(\"one_hot_encoder\", one_hot_enc, one_hot_cols),\n",
    "    (\"min_max_scaler\", min_max_scaler, numeric_cols)],\n",
    "    remainder=\"passthrough\"\n",
    ")\n",
    "\n",
    "  \n",
    "model = LGBMClassifier(\n",
    "    metric='binary_error', \n",
    "    boosting_type='gbdt', \n",
    "    class_weight={False: 0.0001, True: 0.9999},\n",
    "    n_estimators=50_000,\n",
    "    verbose=-1,\n",
    ")\n",
    "\n",
    "model_pipeline = ImbalancedPipeline(\n",
    "    [\n",
    "        (\"encoding\", col_trans),\n",
    "        (\"undersampling\", undersampling),\n",
    "        (\"model\", model)\n",
    "    ]\n",
    ")\n",
    "  \n",
    "model_pipeline.fit(X_train, y_train) \n",
    "  \n",
    "y_pred = model_pipeline.predict(X_test)\n",
    "\n",
    "data = pd.DataFrame(\n",
    "    {\n",
    "        \"actual\": y_test.reset_index().drop(\"index\", axis=1)[\"has_incident\"],\n",
    "        \"predicted\": y_pred,\n",
    "    }, \n",
    ")\n",
    "\n",
    "print(pd.crosstab(data.actual, data.predicted))\n",
    "print(f1_score(y_test, y_pred))\n",
    "print(precision_score(y_test, y_pred))\n",
    "print(recall_score(y_test, y_pred))"
   ],
   "metadata": {
    "collapsed": false,
    "ExecuteTime": {
     "end_time": "2024-02-08T19:52:34.879958Z",
     "start_time": "2024-02-08T19:52:30.079595Z"
    }
   },
   "id": "12e4b095db86f050",
   "execution_count": 23
  },
  {
   "cell_type": "code",
   "outputs": [
    {
     "name": "stdout",
     "output_type": "stream",
     "text": [
      "predicted  False  True \n",
      "actual                 \n",
      "False        847    101\n",
      "True          44     59\n",
      "0.44866920152091255\n",
      "0.36875\n",
      "0.5728155339805825\n"
     ]
    }
   ],
   "source": [
    "one_hot_enc = OneHotEncoder()\n",
    "power_trans = PowerTransformer()\n",
    "oversampling = SMOTE(sampling_strategy=0.3)\n",
    "\n",
    "\n",
    "col_trans = ColumnTransformer(\n",
    "    [(\"one_hot_encoder\", one_hot_enc, one_hot_cols),\n",
    "    (\"power_trans\", power_trans, numeric_cols)],\n",
    "    remainder=\"passthrough\"\n",
    ")\n",
    "\n",
    "  \n",
    "model_2 = LGBMClassifier(\n",
    "    metric='binary_error', \n",
    "    boosting_type='gbdt', \n",
    "    class_weight={False: 0.0001, True: 0.9999},\n",
    "    n_estimators=50_000,\n",
    "    verbose=-1,\n",
    ")\n",
    "\n",
    "model_pipeline_2 = ImbalancedPipeline(\n",
    "    [\n",
    "        (\"encoding\", col_trans),\n",
    "        (\"oversampling\", oversampling),\n",
    "        (\"model\", model_2)\n",
    "    ]\n",
    ")\n",
    "  \n",
    "model_pipeline_2.fit(X_train, y_train) \n",
    "  \n",
    "y_pred = model_pipeline_2.predict(X_test)\n",
    "\n",
    "data = pd.DataFrame(\n",
    "    {\n",
    "        \"actual\": y_test.reset_index().drop(\"index\", axis=1)[\"has_incident\"],\n",
    "        \"predicted\": y_pred,\n",
    "    }, \n",
    ")\n",
    "\n",
    "print(pd.crosstab(data.actual, data.predicted))\n",
    "print(f1_score(y_test, y_pred))\n",
    "print(precision_score(y_test, y_pred))\n",
    "print(recall_score(y_test, y_pred))"
   ],
   "metadata": {
    "collapsed": false,
    "ExecuteTime": {
     "end_time": "2024-02-08T19:55:29.160413Z",
     "start_time": "2024-02-08T19:55:19.972036Z"
    }
   },
   "id": "5b8ad2dac9a8978c",
   "execution_count": 26
  },
  {
   "cell_type": "code",
   "outputs": [
    {
     "name": "stdout",
     "output_type": "stream",
     "text": [
      "predicted  False  True \n",
      "actual                 \n",
      "False        876     72\n",
      "True          49     54\n",
      "0.47161572052401746\n",
      "0.42857142857142855\n",
      "0.5242718446601942\n"
     ]
    }
   ],
   "source": [
    "one_hot_enc = OneHotEncoder()\n",
    "power_trans = PowerTransformer()\n",
    "oversampling = SMOTE(sampling_strategy=0.3)\n",
    "undersampling = NearMiss(sampling_strategy=0.5)\n",
    "\n",
    "\n",
    "col_trans = ColumnTransformer(\n",
    "    [(\"one_hot_encoder\", one_hot_enc, one_hot_cols),\n",
    "    (\"power_trans\", power_trans, numeric_cols)],\n",
    "    remainder=\"passthrough\"\n",
    ")\n",
    "\n",
    "  \n",
    "model_2 = LGBMClassifier(\n",
    "    metric='binary_error', \n",
    "    boosting_type='gbdt', \n",
    "    class_weight={False: 0.2, True: 0.8},\n",
    "    n_estimators=50_000,\n",
    "    verbose=-1,\n",
    ")\n",
    "\n",
    "model_pipeline_3 = ImbalancedPipeline(\n",
    "    [\n",
    "        (\"encoding\", col_trans),\n",
    "        (\"oversampling\", oversampling),\n",
    "        (\"undersampling\", undersampling),\n",
    "        (\"model\", model_2)\n",
    "    ]\n",
    ")\n",
    "  \n",
    "model_pipeline_3.fit(X_train, y_train) \n",
    "  \n",
    "y_pred = model_pipeline_3.predict(X_test)\n",
    "\n",
    "data = pd.DataFrame(\n",
    "    {\n",
    "        \"actual\": y_test.reset_index().drop(\"index\", axis=1)[\"has_incident\"],\n",
    "        \"predicted\": y_pred,\n",
    "    }, \n",
    ")\n",
    "\n",
    "print(pd.crosstab(data.actual, data.predicted))\n",
    "print(f1_score(y_test, y_pred))\n",
    "print(precision_score(y_test, y_pred))\n",
    "print(recall_score(y_test, y_pred))"
   ],
   "metadata": {
    "collapsed": false,
    "ExecuteTime": {
     "end_time": "2024-02-08T19:58:18.610654Z",
     "start_time": "2024-02-08T19:58:11.090674Z"
    }
   },
   "id": "55544139967c42d2",
   "execution_count": 31
  },
  {
   "cell_type": "code",
   "outputs": [],
   "source": [],
   "metadata": {
    "collapsed": false
   },
   "id": "471f8fe2644655cb"
  }
 ],
 "metadata": {
  "kernelspec": {
   "display_name": "Python 3",
   "language": "python",
   "name": "python3"
  },
  "language_info": {
   "codemirror_mode": {
    "name": "ipython",
    "version": 2
   },
   "file_extension": ".py",
   "mimetype": "text/x-python",
   "name": "python",
   "nbconvert_exporter": "python",
   "pygments_lexer": "ipython2",
   "version": "2.7.6"
  }
 },
 "nbformat": 4,
 "nbformat_minor": 5
}
