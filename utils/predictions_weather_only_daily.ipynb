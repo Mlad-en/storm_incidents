{
 "cells": [
  {
   "cell_type": "code",
   "execution_count": 91,
   "id": "initial_id",
   "metadata": {
    "collapsed": true,
    "ExecuteTime": {
     "end_time": "2024-02-08T19:10:16.001046Z",
     "start_time": "2024-02-08T19:10:15.993696Z"
    }
   },
   "outputs": [],
   "source": [
    "from undersampling import  DatabaseTables, FetchDBData\n",
    "import pandas as pd\n",
    "\n",
    "\n",
    "from sklearn.model_selection import train_test_split\n",
    "from sklearn.metrics import f1_score, precision_score, recall_score\n",
    "\n",
    "\n",
    "from lightgbm import LGBMClassifier \n",
    "from sklearn.preprocessing import OneHotEncoder\n",
    "from sklearn.compose import ColumnTransformer\n",
    "from sklearn.pipeline import Pipeline"
   ]
  },
  {
   "cell_type": "markdown",
   "source": [
    "# DATA Combination and Undersampling"
   ],
   "metadata": {
    "collapsed": false
   },
   "id": "e59ad263d9d15174"
  },
  {
   "cell_type": "code",
   "outputs": [],
   "source": [
    "weather_data = FetchDBData(DatabaseTables.daily_weather_with_incidents).get_database_data()"
   ],
   "metadata": {
    "collapsed": false,
    "ExecuteTime": {
     "end_time": "2024-02-08T19:10:18.659386Z",
     "start_time": "2024-02-08T19:10:18.226478Z"
    }
   },
   "id": "713fc7e2fdf46025",
   "execution_count": 92
  },
  {
   "cell_type": "markdown",
   "source": [
    "# Modeling"
   ],
   "metadata": {
    "collapsed": false
   },
   "id": "8e1401c959f47ba2"
  },
  {
   "cell_type": "code",
   "outputs": [],
   "source": [
    "exclude_cols = [\n",
    "    \"dt_iso\",\n",
    "    \"grid_id\",\n",
    "    \"count_incidents\",\n",
    "]\n",
    "\n",
    "target_col = 'has_incident'\n",
    "\n",
    "predictor_cols =[col for col in weather_data.columns if col not in [target_col] + exclude_cols]\n",
    "one_hot_cols = [\"weather_main\"]\n",
    "numeric_cols = [col for col in predictor_cols if col not in exclude_cols + one_hot_cols]\n",
    "\n",
    "X = weather_data[predictor_cols]\n",
    "y = weather_data[target_col]\n",
    "\n",
    "X_train, X_test, y_train, y_test = train_test_split(X, y, test_size=0.2, random_state=123, stratify=y)"
   ],
   "metadata": {
    "collapsed": false,
    "ExecuteTime": {
     "end_time": "2024-02-08T19:10:20.082319Z",
     "start_time": "2024-02-08T19:10:20.071855Z"
    }
   },
   "id": "6c040384c57c387d",
   "execution_count": 93
  },
  {
   "cell_type": "code",
   "outputs": [
    {
     "name": "stdout",
     "output_type": "stream",
     "text": [
      "predicted  False  True \n",
      "actual                 \n",
      "False        487    556\n",
      "True          16     87\n",
      "0.23324396782841822\n",
      "0.13530326594090203\n",
      "0.8446601941747572\n"
     ]
    }
   ],
   "source": [
    "one_hot_enc = OneHotEncoder()\n",
    "\n",
    "\n",
    "col_trans = ColumnTransformer(\n",
    "    [(\"one_hot_encoder\", one_hot_enc, one_hot_cols)],\n",
    "    remainder=\"passthrough\"\n",
    ")\n",
    "\n",
    "  \n",
    "model = LGBMClassifier(\n",
    "    metric='binary_error', \n",
    "    boosting_type='dart', \n",
    "    class_weight={False: 0.05, True: 0.95},\n",
    "    n_estimators=10_000, \n",
    "    verbose=-1,\n",
    "    reg_alpha=10,\n",
    "    reg_lambda=10\n",
    ")\n",
    "\n",
    "model_pipeline = Pipeline(\n",
    "    [\n",
    "        (\"onehot_encoder\", col_trans),\n",
    "        (\"model\", model)\n",
    "    ]\n",
    ")\n",
    "  \n",
    "model_pipeline.fit(X_train, y_train) \n",
    "  \n",
    "y_pred = model_pipeline.predict(X_test)\n",
    "\n",
    "data = pd.DataFrame(\n",
    "    {\n",
    "        \"actual\": y_test.reset_index().drop(\"index\", axis=1)[\"has_incident\"],\n",
    "        \"predicted\": y_pred,\n",
    "    }, \n",
    ")\n",
    "\n",
    "print(pd.crosstab(data.actual, data.predicted))\n",
    "print(f1_score(y_test, y_pred))\n",
    "print(precision_score(y_test, y_pred))\n",
    "print(recall_score(y_test, y_pred))"
   ],
   "metadata": {
    "collapsed": false,
    "ExecuteTime": {
     "end_time": "2024-02-08T19:10:44.709341Z",
     "start_time": "2024-02-08T19:10:33.713752Z"
    }
   },
   "id": "fc24958e014adef1",
   "execution_count": 94
  },
  {
   "cell_type": "code",
   "outputs": [
    {
     "name": "stdout",
     "output_type": "stream",
     "text": [
      "predicted  False  True \n",
      "actual                 \n",
      "False        810    233\n",
      "True          38     65\n",
      "0.32418952618453867\n",
      "0.2181208053691275\n",
      "0.6310679611650486\n"
     ]
    }
   ],
   "source": [
    "one_hot_enc = OneHotEncoder()\n",
    "\n",
    "\n",
    "col_trans = ColumnTransformer(\n",
    "    [(\"one_hot_encoder\", one_hot_enc, one_hot_cols)],\n",
    "    remainder=\"passthrough\"\n",
    ")\n",
    "\n",
    "  \n",
    "model = LGBMClassifier(\n",
    "    metric='binary_error', \n",
    "    boosting_type='dart', \n",
    "    class_weight={False: 0.05, True: 0.95},\n",
    "    n_estimators=100_000, \n",
    "    verbose=-1,\n",
    "    reg_alpha=1,\n",
    "    reg_lambda=3\n",
    ")\n",
    "\n",
    "model_pipeline = Pipeline(\n",
    "    [\n",
    "        (\"onehot_encoder\", col_trans),\n",
    "        (\"model\", model)\n",
    "    ]\n",
    ")\n",
    "  \n",
    "model_pipeline.fit(X_train, y_train) \n",
    "  \n",
    "y_pred = model_pipeline.predict(X_test)\n",
    "\n",
    "data = pd.DataFrame(\n",
    "    {\n",
    "        \"actual\": y_test.reset_index().drop(\"index\", axis=1)[\"has_incident\"],\n",
    "        \"predicted\": y_pred,\n",
    "    }, \n",
    ")\n",
    "\n",
    "print(pd.crosstab(data.actual, data.predicted))\n",
    "print(f1_score(y_test, y_pred))\n",
    "print(precision_score(y_test, y_pred))\n",
    "print(recall_score(y_test, y_pred))"
   ],
   "metadata": {
    "collapsed": false,
    "ExecuteTime": {
     "end_time": "2024-02-08T19:14:27.546203Z",
     "start_time": "2024-02-08T19:10:50.961204Z"
    }
   },
   "id": "797f69a82800e9bd",
   "execution_count": 95
  },
  {
   "cell_type": "code",
   "outputs": [],
   "source": [],
   "metadata": {
    "collapsed": false
   },
   "id": "a43e0778688aecb3"
  }
 ],
 "metadata": {
  "kernelspec": {
   "display_name": "Python 3",
   "language": "python",
   "name": "python3"
  },
  "language_info": {
   "codemirror_mode": {
    "name": "ipython",
    "version": 2
   },
   "file_extension": ".py",
   "mimetype": "text/x-python",
   "name": "python",
   "nbconvert_exporter": "python",
   "pygments_lexer": "ipython2",
   "version": "2.7.6"
  }
 },
 "nbformat": 4,
 "nbformat_minor": 5
}
