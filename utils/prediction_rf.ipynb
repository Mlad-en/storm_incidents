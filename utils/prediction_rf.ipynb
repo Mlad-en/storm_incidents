{
 "cells": [
  {
   "cell_type": "code",
   "execution_count": 1,
   "id": "initial_id",
   "metadata": {
    "collapsed": true,
    "ExecuteTime": {
     "end_time": "2024-02-08T21:24:08.984080Z",
     "start_time": "2024-02-08T21:24:05.941809Z"
    }
   },
   "outputs": [],
   "source": [
    "from undersampling import  DatabaseTables, FetchDBData\n",
    "import pandas as pd\n",
    "\n",
    "\n",
    "from sklearn.model_selection import train_test_split, RandomizedSearchCV\n",
    "from sklearn.metrics import f1_score, precision_score, recall_score\n",
    "\n",
    "\n",
    "from sklearn.ensemble import RandomForestClassifier \n",
    "from sklearn.preprocessing import OneHotEncoder, PowerTransformer\n",
    "from sklearn.feature_selection import VarianceThreshold\n",
    "from sklearn.compose import ColumnTransformer\n",
    "\n",
    "\n",
    "from imblearn.under_sampling import NearMiss\n",
    "from imblearn.pipeline import Pipeline\n",
    "\n",
    "from utils.undersampling import *"
   ]
  },
  {
   "cell_type": "markdown",
   "source": [
    "# DATA Combination and Undersampling"
   ],
   "metadata": {
    "collapsed": false
   },
   "id": "e59ad263d9d15174"
  },
  {
   "cell_type": "code",
   "outputs": [
    {
     "name": "stdout",
     "output_type": "stream",
     "text": [
      "Ratio Weather:\n",
      "has_incident\n",
      "False    1139\n",
      "True      516\n",
      "Name: count, dtype: int64\n"
     ]
    }
   ],
   "source": [
    "under_sampler = NearMiss(version=3, sampling_strategy=0.3)\n",
    "weather_data, has_incident  = undersample_daily_weather_data(under_sampler, DatabaseTables.daily_weather_with_incidents)\n",
    "weather_data.loc[:, \"has_incident\"] = has_incident"
   ],
   "metadata": {
    "collapsed": false,
    "ExecuteTime": {
     "end_time": "2024-02-08T21:24:10.361320Z",
     "start_time": "2024-02-08T21:24:08.987100Z"
    }
   },
   "id": "713fc7e2fdf46025",
   "execution_count": 2
  },
  {
   "cell_type": "code",
   "outputs": [
    {
     "name": "stdout",
     "output_type": "stream",
     "text": [
      "Ratio of Grids:\n",
      "has_incident\n",
      "0    1243\n",
      "1    1243\n",
      "Name: count, dtype: int64\n"
     ]
    }
   ],
   "source": [
    "under_sampler = NearMiss(version=3, sampling_strategy=1)\n",
    "grid_data, has_incident = undersample_grid_data(under_sampler)\n",
    "grid_data.loc[:, \"has_incident\"] = has_incident"
   ],
   "metadata": {
    "collapsed": false,
    "ExecuteTime": {
     "end_time": "2024-02-08T21:24:34.875121Z",
     "start_time": "2024-02-08T21:24:10.366456Z"
    }
   },
   "id": "a1f1ef18101ad39a",
   "execution_count": 3
  },
  {
   "cell_type": "code",
   "outputs": [],
   "source": [
    "incidents_grid_date = FetchDBData(DatabaseTables.count_tree_incidents_per_grid_date).get_database_data()"
   ],
   "metadata": {
    "collapsed": false,
    "ExecuteTime": {
     "end_time": "2024-02-08T21:24:35.110731Z",
     "start_time": "2024-02-08T21:24:34.879083Z"
    }
   },
   "id": "bab0586beffb9988",
   "execution_count": 4
  },
  {
   "cell_type": "code",
   "outputs": [],
   "source": [
    "weather_data[\"dt_iso\"] = weather_data[\"dt_iso\"].astype(str).str.split(' ').apply(lambda x: x[0])"
   ],
   "metadata": {
    "collapsed": false,
    "ExecuteTime": {
     "end_time": "2024-02-08T21:24:35.126397Z",
     "start_time": "2024-02-08T21:24:35.121081Z"
    }
   },
   "id": "4e7400bd3fcb6e40",
   "execution_count": 5
  },
  {
   "cell_type": "code",
   "outputs": [],
   "source": [
    "incidents_grid_date[\"date\"] = incidents_grid_date[\"date\"].astype(str)"
   ],
   "metadata": {
    "collapsed": false,
    "ExecuteTime": {
     "end_time": "2024-02-08T21:24:35.137785Z",
     "start_time": "2024-02-08T21:24:35.131391Z"
    }
   },
   "id": "fec2cf0f81837d52",
   "execution_count": 6
  },
  {
   "cell_type": "code",
   "outputs": [],
   "source": [
    "weather_data_incidents = weather_data.query(\"`has_incident` == 1\").merge(incidents_grid_date, left_on=\"dt_iso\", right_on=\"date\")"
   ],
   "metadata": {
    "collapsed": false,
    "ExecuteTime": {
     "end_time": "2024-02-08T21:24:35.151539Z",
     "start_time": "2024-02-08T21:24:35.144240Z"
    }
   },
   "id": "9989d66824009de3",
   "execution_count": 7
  },
  {
   "cell_type": "code",
   "outputs": [],
   "source": [
    "weather_grid_has_incident = (\n",
    "    weather_data_incidents\n",
    "    .drop([\"count_incidents_y\", \"count_incidents_x\", \"max_incident_priority\", \"has_incident\"], axis=1)\n",
    "    .merge(grid_data, on=\"grid_id\")\n",
    ")"
   ],
   "metadata": {
    "collapsed": false,
    "ExecuteTime": {
     "end_time": "2024-02-08T21:24:35.167153Z",
     "start_time": "2024-02-08T21:24:35.157451Z"
    }
   },
   "id": "22ca1a8fefa974f3",
   "execution_count": 8
  },
  {
   "cell_type": "code",
   "outputs": [],
   "source": [
    "weather_grid_no_incident = grid_data.query(\"`has_incident` == 0\").merge(weather_data_incidents, how=\"cross\").drop([\"count_incidents_y\", \"count_incidents_x\", \"max_incident_priority\", \"has_incident_y\", \"grid_id_y\"], axis=1).rename(columns={\"grid_id_x\": \"grid_id\", \"has_incident_x\": \"has_incident\"})"
   ],
   "metadata": {
    "collapsed": false,
    "ExecuteTime": {
     "end_time": "2024-02-08T21:24:39.788157Z",
     "start_time": "2024-02-08T21:24:35.175932Z"
    }
   },
   "id": "b74e30f5593724a",
   "execution_count": 9
  },
  {
   "cell_type": "code",
   "outputs": [],
   "source": [
    "weather_data_no_incidents = weather_data.query(\"`has_incident` == 0\").merge(incidents_grid_date, left_on=\"dt_iso\", right_on=\"date\")\n",
    "weather_grid_weather_no_incidents = grid_data.query(\"`has_incident` == 0\").merge(weather_data_incidents, how=\"cross\").drop([\"count_incidents_y\", \"count_incidents_x\", \"max_incident_priority\", \"has_incident_y\", \"grid_id_y\"], axis=1).rename(columns={\"grid_id_x\": \"grid_id\", \"has_incident_x\": \"has_incident\"})"
   ],
   "metadata": {
    "collapsed": false,
    "ExecuteTime": {
     "end_time": "2024-02-08T21:24:45.305252Z",
     "start_time": "2024-02-08T21:24:39.795879Z"
    }
   },
   "id": "dd8b2c70dc7cf46d",
   "execution_count": 10
  },
  {
   "cell_type": "code",
   "outputs": [],
   "source": [
    "weather_grid_weather_no_incidents = weather_grid_weather_no_incidents[weather_grid_has_incident.columns]"
   ],
   "metadata": {
    "collapsed": false,
    "ExecuteTime": {
     "end_time": "2024-02-08T21:24:46.342293Z",
     "start_time": "2024-02-08T21:24:45.309728Z"
    }
   },
   "id": "ecafb7b09d67a760",
   "execution_count": 11
  },
  {
   "cell_type": "code",
   "outputs": [],
   "source": [
    "weather_grid_no_incident = weather_grid_no_incident[weather_grid_has_incident.columns]"
   ],
   "metadata": {
    "collapsed": false,
    "ExecuteTime": {
     "end_time": "2024-02-08T21:24:47.414424Z",
     "start_time": "2024-02-08T21:24:46.342514Z"
    }
   },
   "id": "bdd1a879e0cd7731",
   "execution_count": 12
  },
  {
   "cell_type": "code",
   "outputs": [],
   "source": [
    "combined_data = pd.concat([\n",
    "    weather_grid_has_incident, \n",
    "    weather_grid_weather_no_incidents, \n",
    "    weather_grid_no_incident])\n",
    "combined_data = combined_data.drop([\"hour\",\"date\",\"total_incident_duration\"], axis=1)"
   ],
   "metadata": {
    "collapsed": false,
    "ExecuteTime": {
     "end_time": "2024-02-08T21:24:51.545980Z",
     "start_time": "2024-02-08T21:24:47.419107Z"
    }
   },
   "id": "66bb4ba423bf745c",
   "execution_count": 13
  },
  {
   "cell_type": "code",
   "outputs": [],
   "source": [
    "combined_data = combined_data.drop([\"grid_id\", \"weather_main\", \"dt_iso\"], axis=1)"
   ],
   "metadata": {
    "collapsed": false,
    "ExecuteTime": {
     "end_time": "2024-02-08T21:24:54.932952Z",
     "start_time": "2024-02-08T21:24:51.546162Z"
    }
   },
   "id": "18dc32b5ec0972ed",
   "execution_count": 14
  },
  {
   "cell_type": "markdown",
   "source": [
    "# Modeling"
   ],
   "metadata": {
    "collapsed": false
   },
   "id": "8e1401c959f47ba2"
  },
  {
   "cell_type": "code",
   "outputs": [],
   "source": [
    "exclude_cols = [\n",
    "    \"dt_iso\",\n",
    "    \"grid_id\",\n",
    "]\n",
    "\n",
    "target_col = 'has_incident'\n",
    "\n",
    "predictor_cols =[col for col in combined_data.columns if col not in [target_col]]\n",
    "one_hot_cols = [\"weather_main\"]\n",
    "numeric_cols = [col for col in predictor_cols if col not in exclude_cols + one_hot_cols]\n",
    "\n",
    "X = combined_data[predictor_cols]\n",
    "y = combined_data[target_col]\n",
    "\n",
    "X_train, X_test, y_train, y_test = train_test_split(X, y, test_size=0.2, random_state=42, stratify=y)"
   ],
   "metadata": {
    "collapsed": false,
    "ExecuteTime": {
     "end_time": "2024-02-08T21:25:05.401438Z",
     "start_time": "2024-02-08T21:24:54.761380Z"
    }
   },
   "id": "6c040384c57c387d",
   "execution_count": 15
  },
  {
   "cell_type": "code",
   "outputs": [],
   "source": [
    "one_hot_enc = OneHotEncoder()\n",
    "power_trans_enc = PowerTransformer()\n",
    "under_sampler = NearMiss(sampling_strategy=0.01, version=3)\n",
    "\n",
    "column_transformations = ColumnTransformer(\n",
    "    [\n",
    "        (\"one_hot_enc\", one_hot_enc, one_hot_cols),\n",
    "        (\"power\", power_trans_enc, numeric_cols),\n",
    "    ],\n",
    "    \n",
    "    remainder=\"passthrough\"\n",
    ")\n",
    "\n",
    "variance_dropout = VarianceThreshold()\n",
    "\n",
    "\n",
    "model = RandomForestClassifier()\n",
    "\n",
    "\n",
    "pipeline = Pipeline(\n",
    "    [\n",
    "        (\"column_transformations\", column_transformations),\n",
    "        (\"variance_dropout\", variance_dropout),\n",
    "        (\"model\", model),\n",
    "    ]\n",
    ")"
   ],
   "metadata": {
    "collapsed": false,
    "ExecuteTime": {
     "end_time": "2024-02-08T21:25:05.428488Z",
     "start_time": "2024-02-08T21:25:05.423026Z"
    }
   },
   "id": "909f1c1ae7ab99d3",
   "execution_count": 16
  },
  {
   "cell_type": "code",
   "outputs": [],
   "source": [
    "model = RandomizedSearchCV(\n",
    "    model,\n",
    "    param_distributions={\n",
    "        \"class_weight\": [{False: 0.01, True: 0.99}, {False: 0.2, True: 0.8}],\n",
    "        \"n_estimators\": [100, 200, 500]\n",
    "    },\n",
    "    n_jobs=5,\n",
    "    cv=3,\n",
    "    random_state=123,\n",
    "    scoring=\"f1\"\n",
    ").fit(X_train, y_train)"
   ],
   "metadata": {
    "collapsed": false,
    "is_executing": true,
    "ExecuteTime": {
     "start_time": "2024-02-08T21:25:05.428259Z"
    }
   },
   "id": "f7e89e50c4b0fee6"
  },
  {
   "cell_type": "code",
   "outputs": [],
   "source": [
    "print(model.best_score_)"
   ],
   "metadata": {
    "collapsed": false,
    "is_executing": true
   },
   "id": "491812e7176f182b"
  },
  {
   "cell_type": "code",
   "outputs": [],
   "source": [
    "y_pred = model.best_estimator_.predict()\n",
    "data = pd.DataFrame(\n",
    "    {\n",
    "        \"actual\": y_test.reset_index().drop(\"index\", axis=1)[\"has_incident\"],\n",
    "        \"predicted\": y_pred,\n",
    "    }, \n",
    ")\n",
    "\n",
    "print(pd.crosstab(data.actual, data.predicted))\n",
    "print(f1_score(y_test, y_pred))\n",
    "print(precision_score(y_test, y_pred))\n",
    "print(recall_score(y_test, y_pred))"
   ],
   "metadata": {
    "collapsed": false,
    "is_executing": true
   },
   "id": "39695bff90ca9248"
  },
  {
   "cell_type": "code",
   "outputs": [],
   "source": [],
   "metadata": {
    "collapsed": false
   },
   "id": "74a2d06f9775e724"
  }
 ],
 "metadata": {
  "kernelspec": {
   "display_name": "Python 3",
   "language": "python",
   "name": "python3"
  },
  "language_info": {
   "codemirror_mode": {
    "name": "ipython",
    "version": 2
   },
   "file_extension": ".py",
   "mimetype": "text/x-python",
   "name": "python",
   "nbconvert_exporter": "python",
   "pygments_lexer": "ipython2",
   "version": "2.7.6"
  }
 },
 "nbformat": 4,
 "nbformat_minor": 5
}
